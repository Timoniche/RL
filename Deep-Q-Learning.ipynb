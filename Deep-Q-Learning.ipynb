{
 "cells": [
  {
   "cell_type": "code",
   "execution_count": 7,
   "id": "182a66d1-d574-4f92-bc19-f0ba61a274de",
   "metadata": {
    "ExecuteTime": {
     "end_time": "2024-06-02T21:15:26.773101Z",
     "start_time": "2024-06-02T21:15:26.764684Z"
    }
   },
   "outputs": [],
   "source": [
    "from params import env, MEMORY_CAPACITY\n",
    "from DQN import DQN\n",
    "\n",
    "\n",
    "def train():\n",
    "    dqn = DQN()\n",
    "    episodes = 400\n",
    "    print(\"Need to collect (actions, states, rewards, next_statex)....\")\n",
    "    for i in range(episodes):\n",
    "        state = env.reset()\n",
    "        ep_reward = 0\n",
    "        while True:\n",
    "            env.render()\n",
    "            action = dqn.choose_action(state)\n",
    "            next_state, reward, done, info = env.step(action)\n",
    "\n",
    "            dqn.store_transition(state, action, reward, next_state)\n",
    "            ep_reward += reward\n",
    "\n",
    "            if dqn.memory_counter >= MEMORY_CAPACITY:\n",
    "                dqn.learn()\n",
    "                if done:\n",
    "                    print(\"episode: {} , the episode reward is {}\".format(i, round(ep_reward, 3)))\n",
    "            if done:\n",
    "                break\n",
    "            state = next_state"
   ]
  },
  {
   "cell_type": "code",
   "execution_count": 8,
   "outputs": [
    {
     "name": "stdout",
     "output_type": "stream",
     "text": [
      "Need to collect (actions, states, rewards, next_statex)....\n"
     ]
    },
    {
     "ename": "AttributeError",
     "evalue": "'DQN' object has no attribute 'choose_action'",
     "output_type": "error",
     "traceback": [
      "\u001B[0;31m---------------------------------------------------------------------------\u001B[0m",
      "\u001B[0;31mAttributeError\u001B[0m                            Traceback (most recent call last)",
      "Cell \u001B[0;32mIn[8], line 1\u001B[0m\n\u001B[0;32m----> 1\u001B[0m \u001B[43mtrain\u001B[49m\u001B[43m(\u001B[49m\u001B[43m)\u001B[49m\n",
      "Cell \u001B[0;32mIn[7], line 14\u001B[0m, in \u001B[0;36mtrain\u001B[0;34m()\u001B[0m\n\u001B[1;32m     12\u001B[0m \u001B[38;5;28;01mwhile\u001B[39;00m \u001B[38;5;28;01mTrue\u001B[39;00m:\n\u001B[1;32m     13\u001B[0m     env\u001B[38;5;241m.\u001B[39mrender()\n\u001B[0;32m---> 14\u001B[0m     action \u001B[38;5;241m=\u001B[39m \u001B[43mdqn\u001B[49m\u001B[38;5;241;43m.\u001B[39;49m\u001B[43mchoose_action\u001B[49m(state)\n\u001B[1;32m     15\u001B[0m     next_state, reward, done, info \u001B[38;5;241m=\u001B[39m env\u001B[38;5;241m.\u001B[39mstep(action)\n\u001B[1;32m     17\u001B[0m     dqn\u001B[38;5;241m.\u001B[39mstore_transition(state, action, reward, next_state)\n",
      "\u001B[0;31mAttributeError\u001B[0m: 'DQN' object has no attribute 'choose_action'"
     ]
    }
   ],
   "source": [
    "train()"
   ],
   "metadata": {
    "collapsed": false,
    "ExecuteTime": {
     "end_time": "2024-06-02T21:15:27.581169Z",
     "start_time": "2024-06-02T21:15:27.559822Z"
    }
   },
   "id": "23a8a05078db3f81"
  },
  {
   "cell_type": "code",
   "execution_count": null,
   "outputs": [],
   "source": [],
   "metadata": {
    "collapsed": false
   },
   "id": "110567f323a2d0b6"
  }
 ],
 "metadata": {
  "kernelspec": {
   "display_name": "Python 3 (ipykernel)",
   "language": "python",
   "name": "python3"
  },
  "language_info": {
   "codemirror_mode": {
    "name": "ipython",
    "version": 3
   },
   "file_extension": ".py",
   "mimetype": "text/x-python",
   "name": "python",
   "nbconvert_exporter": "python",
   "pygments_lexer": "ipython3",
   "version": "3.7.12"
  }
 },
 "nbformat": 4,
 "nbformat_minor": 5
}
