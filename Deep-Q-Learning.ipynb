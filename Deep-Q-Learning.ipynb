{
 "cells": [
  {
   "cell_type": "code",
   "execution_count": 1,
   "id": "d4dec17f-9691-4894-b196-e4001d4d1185",
   "metadata": {
    "ExecuteTime": {
     "end_time": "2024-06-02T17:42:09.332370Z",
     "start_time": "2024-06-02T17:42:06.240712Z"
    }
   },
   "outputs": [],
   "source": [
    "import torch\n",
    "import torch.nn as nn\n",
    "import torch.nn.functional as F\n",
    "import numpy as np\n",
    "import gym"
   ]
  },
  {
   "cell_type": "code",
   "execution_count": 2,
   "id": "b4a076c5-fc6b-4507-b4d1-15bc2450b990",
   "metadata": {
    "ExecuteTime": {
     "end_time": "2024-06-02T17:42:14.645701Z",
     "start_time": "2024-06-02T17:42:14.630105Z"
    }
   },
   "outputs": [
    {
     "name": "stderr",
     "output_type": "stream",
     "text": [
      "/Library/Python/3.9/site-packages/gym/envs/registration.py:555: UserWarning: \u001B[33mWARN: The environment CartPole-v0 is out of date. You should consider upgrading to version `v1`.\u001B[0m\n",
      "  logger.warn(\n"
     ]
    }
   ],
   "source": [
    "# hyper-parameters\n",
    "BATCH_SIZE = 128\n",
    "LR = 0.01\n",
    "GAMMA = 0.90 \n",
    "EPISILON = 0.9\n",
    "MEMORY_CAPACITY = 20000 #You can try bigger\n",
    "Q_NETWORK_ITERATION = 100\n",
    "\n",
    "\n",
    "env = gym.make(\"CartPole-v0\")\n",
    "env = env.unwrapped\n",
    "NUM_ACTIONS = env.action_space.n\n",
    "NUM_STATES = env.observation_space.shape[0]\n",
    "ENV_A_SHAPE = 0 if isinstance(env.action_space.sample(), int) else env.action_space.sample.shape"
   ]
  },
  {
   "cell_type": "code",
   "execution_count": 3,
   "id": "182a66d1-d574-4f92-bc19-f0ba61a274de",
   "metadata": {
    "ExecuteTime": {
     "end_time": "2024-06-02T17:42:27.459402Z",
     "start_time": "2024-06-02T17:42:27.449551Z"
    }
   },
   "outputs": [],
   "source": [
    "class Net(nn.Module):\n",
    "    def __init__(self):\n",
    "        super(Net, self).__init__()\n",
    "        self.fc1 = nn.Linear(NUM_STATES, 50)\n",
    "        self.fc1.weight.data.normal_(0,0.1)\n",
    "        self.fc2 = nn.Linear(50,30)\n",
    "        self.fc2.weight.data.normal_(0,0.1)\n",
    "        self.out = nn.Linear(30,NUM_ACTIONS)\n",
    "        self.out.weight.data.normal_(0,0.1)\n",
    "\n",
    "    def forward(self,x):\n",
    "        x = self.fc1(x)\n",
    "        x = F.relu(x)\n",
    "        x = self.fc2(x)\n",
    "        x = F.relu(x)\n",
    "        action_prob = self.out(x)\n",
    "        return action_prob\n",
    "    \n",
    "\n",
    "class DQN():\n",
    "    def __init__(self):\n",
    "        super(DQN, self).__init__()\n",
    "        self.eval_net = Net()\n",
    "        self.target_net = Net() # We need a target_net for stable evaluation.\n",
    "\n",
    "        self.learn_step_counter = 0\n",
    "        self.memory_counter = 0\n",
    "        self.memory = np.zeros((MEMORY_CAPACITY, NUM_STATES * 2 + 2))\n",
    "        \n",
    "        # Define the self.optimizer and self.loss_func:\n",
    "\n",
    "\n",
    "    def act(self, state):\n",
    "        state = torch.unsqueeze(torch.FloatTensor(state), 0) # get a 1D array\n",
    "        # Write your code for an epsilon-greedy exploration. \n",
    "        # With probability 1-EPISILON choose a random action.\n",
    "        \n",
    "\n",
    "    def store_transition(self, state, action, reward, next_state):\n",
    "        transition = np.hstack((state, [action, reward], next_state))\n",
    "        index = self.memory_counter % MEMORY_CAPACITY\n",
    "        self.memory[index, :] = transition\n",
    "        self.memory_counter += 1\n",
    "\n",
    "\n",
    "    def update(self):\n",
    "        #sample batch from memory\n",
    "        sample_index = np.random.choice(MEMORY_CAPACITY, BATCH_SIZE)\n",
    "        batch_memory = self.memory[sample_index, :]\n",
    "        batch_state = torch.FloatTensor(batch_memory[:, :NUM_STATES])\n",
    "        batch_action = torch.LongTensor(batch_memory[:, NUM_STATES:NUM_STATES+1].astype(int))\n",
    "        batch_reward = torch.FloatTensor(batch_memory[:, NUM_STATES+1:NUM_STATES+2])\n",
    "        batch_next_state = torch.FloatTensor(batch_memory[:,-NUM_STATES:])\n",
    "\n",
    "        # Write your code for the q-learning update\n",
    "        \n",
    "        #update the target network parameters\n",
    "        if self.learn_step_counter % Q_NETWORK_ITERATION ==0:\n",
    "            self.target_net.load_state_dict(self.eval_net.state_dict())\n",
    "        self.learn_step_counter+=1\n",
    "\n",
    "        \n",
    "def train():\n",
    "    dqn = DQN()\n",
    "    episodes = 400\n",
    "    print(\"Need to collect (actions, states, rewards, next_statex)....\")\n",
    "    for i in range(episodes):\n",
    "        state = env.reset()\n",
    "        ep_reward = 0\n",
    "        while True:\n",
    "            env.render()\n",
    "            action = dqn.choose_action(state)\n",
    "            next_state, reward, done, info = env.step(action)\n",
    "\n",
    "            dqn.store_transition(state, action, reward, next_state)\n",
    "            ep_reward += reward\n",
    "\n",
    "            if dqn.memory_counter >= MEMORY_CAPACITY:\n",
    "                dqn.learn()\n",
    "                if done:\n",
    "                    print(\"episode: {} , the episode reward is {}\".format(i, round(ep_reward, 3)))\n",
    "            if done:\n",
    "                break\n",
    "            state = next_state"
   ]
  },
  {
   "cell_type": "code",
   "execution_count": 4,
   "outputs": [
    {
     "name": "stdout",
     "output_type": "stream",
     "text": [
      "Need to collect (actions, states, rewards, next_statex)....\n"
     ]
    },
    {
     "name": "stderr",
     "output_type": "stream",
     "text": [
      "/Library/Python/3.9/site-packages/gym/envs/classic_control/cartpole.py:211: UserWarning: \u001B[33mWARN: You are calling render method without specifying any render mode. You can specify the render_mode at initialization, e.g. gym(\"CartPole-v0\", render_mode=\"rgb_array\")\u001B[0m\n",
      "  gym.logger.warn(\n"
     ]
    },
    {
     "ename": "AttributeError",
     "evalue": "'DQN' object has no attribute 'choose_action'",
     "output_type": "error",
     "traceback": [
      "\u001B[0;31m---------------------------------------------------------------------------\u001B[0m",
      "\u001B[0;31mAttributeError\u001B[0m                            Traceback (most recent call last)",
      "Cell \u001B[0;32mIn[4], line 1\u001B[0m\n\u001B[0;32m----> 1\u001B[0m \u001B[43mtrain\u001B[49m\u001B[43m(\u001B[49m\u001B[43m)\u001B[49m\n",
      "Cell \u001B[0;32mIn[3], line 72\u001B[0m, in \u001B[0;36mtrain\u001B[0;34m()\u001B[0m\n\u001B[1;32m     70\u001B[0m \u001B[38;5;28;01mwhile\u001B[39;00m \u001B[38;5;28;01mTrue\u001B[39;00m:\n\u001B[1;32m     71\u001B[0m     env\u001B[38;5;241m.\u001B[39mrender()\n\u001B[0;32m---> 72\u001B[0m     action \u001B[38;5;241m=\u001B[39m \u001B[43mdqn\u001B[49m\u001B[38;5;241;43m.\u001B[39;49m\u001B[43mchoose_action\u001B[49m(state)\n\u001B[1;32m     73\u001B[0m     next_state, reward, done, info \u001B[38;5;241m=\u001B[39m env\u001B[38;5;241m.\u001B[39mstep(action)\n\u001B[1;32m     75\u001B[0m     dqn\u001B[38;5;241m.\u001B[39mstore_transition(state, action, reward, next_state)\n",
      "\u001B[0;31mAttributeError\u001B[0m: 'DQN' object has no attribute 'choose_action'"
     ]
    }
   ],
   "source": [
    "train()"
   ],
   "metadata": {
    "collapsed": false,
    "ExecuteTime": {
     "end_time": "2024-06-02T17:42:39.548890Z",
     "start_time": "2024-06-02T17:42:39.374498Z"
    }
   },
   "id": "23a8a05078db3f81"
  },
  {
   "cell_type": "code",
   "execution_count": null,
   "outputs": [],
   "source": [],
   "metadata": {
    "collapsed": false
   },
   "id": "f5fc4daa690d194b"
  }
 ],
 "metadata": {
  "kernelspec": {
   "display_name": "Python 3 (ipykernel)",
   "language": "python",
   "name": "python3"
  },
  "language_info": {
   "codemirror_mode": {
    "name": "ipython",
    "version": 3
   },
   "file_extension": ".py",
   "mimetype": "text/x-python",
   "name": "python",
   "nbconvert_exporter": "python",
   "pygments_lexer": "ipython3",
   "version": "3.7.12"
  }
 },
 "nbformat": 4,
 "nbformat_minor": 5
}
